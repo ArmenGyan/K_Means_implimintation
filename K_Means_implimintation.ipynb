{
 "cells": [
  {
   "cell_type": "code",
   "execution_count": 1,
   "metadata": {},
   "outputs": [],
   "source": [
    "import numpy as np"
   ]
  },
  {
   "cell_type": "code",
   "execution_count": 2,
   "metadata": {},
   "outputs": [],
   "source": [
    "def euclidean_distance(x1, x2):\n",
    "    return np.sqrt(np.sum((x1 - x2)**2))"
   ]
  },
  {
   "cell_type": "code",
   "execution_count": 3,
   "metadata": {},
   "outputs": [],
   "source": [
    "class Kmeans:\n",
    "    def __init__(self, k=5, max_iter=100):\n",
    "        \n",
    "        self.k = k\n",
    "        self.max_iter = max_iter\n",
    "        \n",
    "        self.clusters = [[] for _ in range(self.k)]\n",
    "        self.centroids = []\n",
    "        \n",
    "    def predict(self, x):\n",
    "        \n",
    "        self.x = x\n",
    "        \n",
    "        self.n_samples, self.n_featuers = x.shape\n",
    "        \n",
    "        \n",
    "        random_idxs = np.random.choice(self.n_samples, self.k, replace=False)\n",
    "        \n",
    "        self.centroids = [self.x[idx] for idx in random_idxs]\n",
    "        \n",
    "        for i in range(self.max_iter):\n",
    "        \n",
    "            self.clusters = self._create_clusters(self.centroids)\n",
    "\n",
    "            centroids_old = self.centroids\n",
    "\n",
    "            self.centroids = self._get_centroids(self.clusters)\n",
    "\n",
    "            if self._is_converged(centroids_old, self.centroids):\n",
    "\n",
    "                break\n",
    "        \n",
    "        return self._get_cluster_labels(self.clusters)\n",
    "    \n",
    "    def _get_cluster_labels(self, clusters):\n",
    "        \n",
    "        labels = np.empty(self.n_samples)\n",
    "        \n",
    "        for cluster_idx , cluster in enumerate(clusters):\n",
    "            \n",
    "            for sample_idx in cluster:\n",
    "                \n",
    "                labels[sample_idx] = cluster_idx\n",
    "        \n",
    "        return labels\n",
    "    \n",
    "    \n",
    "    def _create_clusters(self, centroids):\n",
    "        \n",
    "        clusters = [[] for _ in range(self.k)]\n",
    "        \n",
    "        for idx, sample in enumerate(self.x):\n",
    "            \n",
    "            centroid_idx = self._closest_centroid(sample, centroids)\n",
    "            \n",
    "            clusters[centroid_idx].append(idx)\n",
    "            \n",
    "        return clusters\n",
    "    \n",
    "    def _closest_centroid(self, sample, centroids):\n",
    "        \n",
    "        distances = [euclidean_distance(sample, point) for point in centroids]\n",
    "        \n",
    "        closest_idx = np.argmin(distances)\n",
    "    \n",
    "        return closest_idx\n",
    "            \n",
    "            \n",
    "            \n",
    "    def _get_centroids(self, clusters):\n",
    "        \n",
    "        centroids = np.zeros((self.k, self.n_featuers))\n",
    "        \n",
    "        for cluster_idx , cluster in enumerate(clusters):\n",
    "            \n",
    "            cluster_mean = np.mean(self.x[cluster], axis=0)\n",
    "            \n",
    "            centroids[cluster_idx] = cluster_mean\n",
    "        \n",
    "        return centroids\n",
    "    \n",
    "    \n",
    "    def _is_converged(self, centroids_old, centroids):\n",
    "        \n",
    "        distances = [euclidean_distance(centroids_old[i], centroids[i]) for i in range(self.k)]\n",
    "        \n",
    "        return sum(distances) == 0"
   ]
  },
  {
   "cell_type": "code",
   "execution_count": null,
   "metadata": {},
   "outputs": [],
   "source": []
  },
  {
   "cell_type": "code",
   "execution_count": null,
   "metadata": {},
   "outputs": [],
   "source": []
  },
  {
   "cell_type": "code",
   "execution_count": 4,
   "metadata": {},
   "outputs": [],
   "source": [
    "from sklearn.datasets import make_blobs"
   ]
  },
  {
   "cell_type": "code",
   "execution_count": 5,
   "metadata": {},
   "outputs": [],
   "source": [
    "X, y = make_blobs(centers=3, n_samples=500, n_features=2, shuffle=True, random_state=42)"
   ]
  },
  {
   "cell_type": "code",
   "execution_count": 7,
   "metadata": {},
   "outputs": [
    {
     "name": "stdout",
     "output_type": "stream",
     "text": [
      "3\n"
     ]
    }
   ],
   "source": [
    "clusters = len(np.unique(y))\n",
    "print(clusters)"
   ]
  },
  {
   "cell_type": "code",
   "execution_count": 8,
   "metadata": {},
   "outputs": [],
   "source": [
    "k = Kmeans(k=clusters, max_iter=150)"
   ]
  },
  {
   "cell_type": "code",
   "execution_count": 9,
   "metadata": {},
   "outputs": [],
   "source": [
    "y_pred = k.predict(X)"
   ]
  },
  {
   "cell_type": "code",
   "execution_count": 10,
   "metadata": {},
   "outputs": [
    {
     "data": {
      "text/plain": [
       "array([0., 2., 2., 1., 2., 2., 0., 2., 2., 0., 2., 1., 1., 1., 2., 2., 1.,\n",
       "       0., 0., 1., 2., 1., 2., 0., 0., 2., 2., 0., 0., 1., 2., 1., 1., 1.,\n",
       "       2., 2., 2., 2., 0., 0., 2., 1., 1., 1., 1., 2., 2., 2., 2., 0., 0.,\n",
       "       1., 0., 0., 2., 1., 1., 0., 2., 0., 0., 1., 2., 0., 2., 0., 2., 0.,\n",
       "       1., 2., 2., 2., 2., 0., 1., 0., 1., 2., 1., 1., 0., 1., 2., 1., 0.,\n",
       "       0., 0., 0., 2., 1., 0., 2., 1., 2., 2., 0., 1., 1., 1., 0., 2., 1.,\n",
       "       1., 0., 0., 1., 1., 0., 1., 0., 0., 0., 0., 0., 0., 2., 1., 0., 2.,\n",
       "       0., 1., 1., 2., 2., 0., 2., 1., 2., 0., 0., 0., 2., 2., 0., 2., 0.,\n",
       "       0., 0., 2., 1., 0., 0., 2., 2., 0., 0., 0., 1., 1., 1., 2., 0., 2.,\n",
       "       2., 1., 0., 1., 0., 2., 2., 0., 0., 1., 1., 0., 1., 1., 2., 0., 0.,\n",
       "       0., 1., 1., 0., 0., 1., 1., 2., 2., 2., 1., 0., 1., 1., 0., 0., 1.,\n",
       "       2., 1., 0., 0., 0., 0., 0., 1., 2., 1., 1., 0., 2., 1., 1., 0., 0.,\n",
       "       2., 0., 2., 1., 1., 0., 0., 2., 0., 1., 1., 0., 1., 0., 1., 2., 2.,\n",
       "       1., 0., 1., 2., 1., 1., 0., 2., 2., 2., 2., 1., 0., 0., 0., 1., 2.,\n",
       "       1., 2., 2., 2., 1., 1., 0., 0., 2., 1., 1., 2., 1., 1., 1., 1., 2.,\n",
       "       1., 0., 1., 0., 1., 1., 1., 0., 1., 2., 2., 2., 1., 2., 2., 1., 1.,\n",
       "       2., 0., 1., 1., 1., 1., 0., 0., 1., 2., 1., 1., 0., 1., 2., 0., 2.,\n",
       "       2., 0., 1., 1., 1., 0., 1., 0., 2., 2., 1., 2., 0., 2., 2., 1., 2.,\n",
       "       2., 2., 2., 1., 2., 0., 2., 2., 2., 0., 0., 2., 2., 1., 0., 2., 2.,\n",
       "       0., 0., 0., 2., 0., 0., 0., 0., 0., 1., 0., 1., 0., 1., 1., 0., 1.,\n",
       "       2., 2., 1., 1., 2., 1., 2., 1., 2., 2., 2., 1., 2., 0., 0., 2., 0.,\n",
       "       1., 2., 1., 2., 1., 2., 2., 0., 1., 2., 2., 1., 0., 1., 0., 1., 2.,\n",
       "       0., 1., 0., 2., 0., 0., 2., 0., 1., 2., 0., 0., 1., 2., 0., 2., 0.,\n",
       "       2., 1., 1., 2., 0., 2., 1., 1., 1., 2., 0., 2., 1., 2., 2., 0., 0.,\n",
       "       2., 2., 0., 1., 2., 0., 1., 2., 1., 1., 2., 1., 1., 1., 0., 0., 2.,\n",
       "       1., 2., 0., 1., 1., 2., 0., 2., 2., 0., 0., 2., 0., 1., 1., 0., 2.,\n",
       "       0., 1., 1., 0., 2., 0., 1., 1., 2., 0., 1., 2., 2., 2., 2., 2., 1.,\n",
       "       2., 0., 2., 0., 2., 1., 1., 1., 2., 2., 1., 0., 0., 1., 1., 0., 0.,\n",
       "       1., 0., 2., 2., 1., 1., 0., 0., 1., 2., 0., 0., 2., 0., 0., 1., 0.,\n",
       "       2., 1., 0., 1., 2., 0., 2.])"
      ]
     },
     "execution_count": 10,
     "metadata": {},
     "output_type": "execute_result"
    }
   ],
   "source": [
    "y_pred"
   ]
  },
  {
   "cell_type": "code",
   "execution_count": null,
   "metadata": {},
   "outputs": [],
   "source": []
  }
 ],
 "metadata": {
  "kernelspec": {
   "display_name": "Python 3",
   "language": "python",
   "name": "python3"
  },
  "language_info": {
   "codemirror_mode": {
    "name": "ipython",
    "version": 3
   },
   "file_extension": ".py",
   "mimetype": "text/x-python",
   "name": "python",
   "nbconvert_exporter": "python",
   "pygments_lexer": "ipython3",
   "version": "3.8.5"
  }
 },
 "nbformat": 4,
 "nbformat_minor": 4
}
